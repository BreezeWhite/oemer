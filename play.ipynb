{
  "cells": [
    {
      "cell_type": "markdown",
      "metadata": {
        "id": "HEQpFXTPacHK"
      },
      "source": []
    },
    {
      "cell_type": "markdown",
      "metadata": {
        "id": "X54ihE_BaWIn"
      },
      "source": [
        "## **Make sure to press \"Enter\" while installing musescore command line!!**"
      ]
    },
    {
      "cell_type": "code",
      "execution_count": null,
      "metadata": {
        "cellView": "form",
        "id": "etyj5Hzr5lGy"
      },
      "outputs": [],
      "source": [
        "#@title Setup\n",
        "\n",
        "%env DEBIAN_FRONTEND=noninteractive\n",
        "%env QT_QPA_PLATFORM=offscreen\n",
        "\n",
        "!add-apt-repository ppa:mscore-ubuntu/mscore3-stable\n",
        "!apt-get update\n",
        "!apt-get --yes install musescore3 libmagic-dev\n",
        "\n",
        "import os\n",
        "import requests\n",
        "def download_wheel():\n",
        "  url = \"https://api.github.com/repos/BreezeWhite/oemer/releases/latest\"\n",
        "  release_json = requests.get(url).json()\n",
        "\n",
        "  asset = None\n",
        "  for aa in release_json['assets']:\n",
        "      if aa['name'].endswith(\".whl\") and aa['name'].startswith('Oemer'):\n",
        "          asset = aa\n",
        "          break\n",
        "\n",
        "  if asset is None:\n",
        "      print(\"No available wheel file found in the latest release.\")\n",
        "      exit(1)\n",
        "\n",
        "  print(\"Downloading\")\n",
        "  asset_dl_url = asset['url']\n",
        "  whl = requests.get(\n",
        "      asset_dl_url, headers={\"Accept\": \"application/octet-stream\"})\n",
        "  with open(asset['name'], \"wb\") as out:\n",
        "      out.write(whl.content)\n",
        "\n",
        "  print(f\"Finished downloading: {asset['name']}\")\n",
        "  return asset['name']\n",
        "\n",
        "wheel_name = download_wheel()\n",
        "os.environ['WHEEL_NAME'] = wheel_name\n",
        "\n",
        "!pip install ${WHEEL_NAME}\n",
        "!pip uninstall -y tensorflow-gpu"
      ]
    },
    {
      "cell_type": "code",
      "execution_count": null,
      "metadata": {
        "cellView": "form",
        "id": "73HTK67hyzGW"
      },
      "outputs": [],
      "source": [
        "#@title Upload Image\n",
        "\n",
        "%matplotlib inline\n",
        "\n",
        "from google.colab import files\n",
        "import matplotlib.pyplot as plt\n",
        "import cv2\n",
        "import os\n",
        "\n",
        "ff = files.upload()\n",
        "img_path = list(ff.keys())[0]\n",
        "basename = img_path.replace(\".jpg\", \"\").replace(\".png\", \"\")\n",
        "\n",
        "os.environ['img_path'] = img_path\n",
        "os.environ['basename'] = basename\n",
        "\n",
        "plt.rcParams['figure.figsize'] = (20, 20)\n",
        "plt.axis('off')\n",
        "img = cv2.imread(img_path)\n",
        "plt.imshow(img)\n",
        "plt.show()"
      ]
    },
    {
      "cell_type": "code",
      "execution_count": null,
      "metadata": {
        "cellView": "form",
        "id": "SOofwGaJletH"
      },
      "outputs": [],
      "source": [
        "#@title Run Recoginition\n",
        "\n",
        "%env DEBIAN_FRONTEND=noninteractive\n",
        "%env QT_QPA_PLATFORM=offscreen\n",
        "#%env INFERENCE_WITH_TF=True\n",
        "\n",
        "import IPython.display as dsp\n",
        "\n",
        "!oemer \"$img_path\"\n",
        "\n",
        "!musescore3 -o \"${basename}.mp3\" $basename.musicxml\n",
        "!musescore3 -o \"${basename}.png\" $basename.musicxml\n",
        "\n",
        "\n",
        "dsp.display(dsp.Audio(f\"{basename}.mp3\"))\n",
        "\n",
        "img = plt.imread(f\"{basename}-1.png\")\n",
        "plt.rcParams['figure.figsize'] = (20, 20)\n",
        "plt.axis('off')\n",
        "plt.imshow(img)\n",
        "plt.show()\n",
        "\n"
      ]
    }
  ],
  "metadata": {
    "accelerator": "GPU",
    "colab": {
      "collapsed_sections": [],
      "name": "Meteo OMR.ipynb",
      "provenance": []
    },
    "kernelspec": {
      "display_name": "Python 3",
      "name": "python3"
    },
    "language_info": {
      "name": "python"
    }
  },
  "nbformat": 4,
  "nbformat_minor": 0
}
